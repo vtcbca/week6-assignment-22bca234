{
 "cells": [
  {
   "cell_type": "markdown",
   "id": "95e75ac7",
   "metadata": {},
   "source": [
    "## 1. Create a result table which contain student id, student name and 5 subject marks. \n"
   ]
  },
  {
   "cell_type": "code",
   "execution_count": 1,
   "id": "2a3a810f",
   "metadata": {},
   "outputs": [],
   "source": [
    "import sqlite3 as sq\n",
    "con=sq.connect(\"RESULT.db\")\n",
    "cur=con.cursor()"
   ]
  },
  {
   "cell_type": "code",
   "execution_count": 2,
   "id": "4ab78c2a",
   "metadata": {},
   "outputs": [],
   "source": [
    "table='''Create table if not exists result\n",
    "        (\n",
    "        sid int primary key,\n",
    "        sname text NOT NULL,\n",
    "        m1 int,\n",
    "        m2 int,\n",
    "        m3 int,\n",
    "        m4 int,\n",
    "        m5 int\n",
    "        )'''\n",
    "       "
   ]
  },
  {
   "cell_type": "code",
   "execution_count": 3,
   "id": "7efe5c9c",
   "metadata": {},
   "outputs": [
    {
     "data": {
      "text/plain": [
       "<sqlite3.Cursor at 0x25b4f420cc0>"
      ]
     },
     "execution_count": 3,
     "metadata": {},
     "output_type": "execute_result"
    }
   ],
   "source": [
    "cur.execute(table)"
   ]
  },
  {
   "cell_type": "markdown",
   "id": "ff6ad9d8",
   "metadata": {},
   "source": [
    "## 2. Enter 10 studnet details with its marks."
   ]
  },
  {
   "cell_type": "code",
   "execution_count": 5,
   "id": "1589601e",
   "metadata": {},
   "outputs": [],
   "source": [
    "insert2=\"insert into result values(?,?,?,?,?)\""
   ]
  },
  {
   "cell_type": "code",
   "execution_count": 6,
   "id": "e618978c",
   "metadata": {},
   "outputs": [],
   "source": [
    "l=[]"
   ]
  },
  {
   "cell_type": "code",
   "execution_count": 9,
   "id": "f42decb8",
   "metadata": {},
   "outputs": [
    {
     "name": "stdout",
     "output_type": "stream",
     "text": [
      "Enter student id of student 1: 101\n",
      "Enter student Name of student 1 :Aastha\n",
      "Enter marks of subject 1 of student 1 :90\n",
      "Enter marks of subject  2 of student 1 :90\n",
      "Enter marks of subject  3 of student 1 :90\n",
      "Enter marks of subject 4 of student 1 :90\n",
      "Enter marks of subject  5 of student 1 :90\n",
      "Enter student id of student 2: 102\n",
      "Enter student Name of student 2 :Jinal\n",
      "Enter marks of subject 1 of student 2 :80\n",
      "Enter marks of subject  2 of student 2 :80\n",
      "Enter marks of subject  3 of student 2 :80\n",
      "Enter marks of subject 4 of student 2 :80\n",
      "Enter marks of subject  5 of student 2 :80\n",
      "Enter student id of student 3: 103\n",
      "Enter student Name of student 3 :Neti\n",
      "Enter marks of subject 1 of student 3 :70\n",
      "Enter marks of subject  2 of student 3 :70\n",
      "Enter marks of subject  3 of student 3 :70\n",
      "Enter marks of subject 4 of student 3 :70\n",
      "Enter marks of subject  5 of student 3 :70\n",
      "Enter student id of student 4: 104\n",
      "Enter student Name of student 4 :Prapti\n",
      "Enter marks of subject 1 of student 4 :60\n",
      "Enter marks of subject  2 of student 4 :60\n",
      "Enter marks of subject  3 of student 4 :60\n",
      "Enter marks of subject 4 of student 4 :60\n",
      "Enter marks of subject  5 of student 4 :60\n",
      "Enter student id of student 5: 105\n",
      "Enter student Name of student 5 :Diya\n",
      "Enter marks of subject 1 of student 5 :50\n",
      "Enter marks of subject  2 of student 5 :50\n",
      "Enter marks of subject  3 of student 5 :50\n",
      "Enter marks of subject 4 of student 5 :50\n",
      "Enter marks of subject  5 of student 5 :50\n",
      "Enter student id of student 6: 106\n",
      "Enter student Name of student 6 :Prathana\n",
      "Enter marks of subject 1 of student 6 :40\n",
      "Enter marks of subject  2 of student 6 :40\n",
      "Enter marks of subject  3 of student 6 :40\n",
      "Enter marks of subject 4 of student 6 :40\n",
      "Enter marks of subject  5 of student 6 :40\n",
      "Enter student id of student 7: 107\n",
      "Enter student Name of student 7 :Namarata\n",
      "Enter marks of subject 1 of student 7 :95\n",
      "Enter marks of subject  2 of student 7 :95\n",
      "Enter marks of subject  3 of student 7 :95\n",
      "Enter marks of subject 4 of student 7 :95\n",
      "Enter marks of subject  5 of student 7 :95\n",
      "Enter student id of student 8: 108\n",
      "Enter student Name of student 8 :Jully\n",
      "Enter marks of subject 1 of student 8 :85\n",
      "Enter marks of subject  2 of student 8 :85\n",
      "Enter marks of subject  3 of student 8 :85\n",
      "Enter marks of subject 4 of student 8 :85\n",
      "Enter marks of subject  5 of student 8 :85\n",
      "Enter student id of student 9: 109\n",
      "Enter student Name of student 9 :Khyati\n",
      "Enter marks of subject 1 of student 9 :30\n",
      "Enter marks of subject  2 of student 9 :30\n",
      "Enter marks of subject  3 of student 9 :30\n",
      "Enter marks of subject 4 of student 9 :30\n",
      "Enter marks of subject  5 of student 9 :30\n",
      "Enter student id of student 10: 110\n",
      "Enter student Name of student 10 :Heena\n",
      "Enter marks of subject 1 of student 10 :20\n",
      "Enter marks of subject  2 of student 10 :30\n",
      "Enter marks of subject  3 of student 10 :40\n",
      "Enter marks of subject 4 of student 10 :23\n",
      "Enter marks of subject  5 of student 10 :23\n"
     ]
    }
   ],
   "source": [
    "for i in range(10):\n",
    "    sid=int(input(f\"Enter student id of student {i+1}: \"))\n",
    "    sname=input(f\"Enter student Name of student {i+1} :\")\n",
    "    m1=int(input(f\"Enter marks of subject 1 of student {i+1} :\"))\n",
    "    m2=int(input(f\"Enter marks of subject  2 of student {i+1} :\"))\n",
    "    m3=int(input(f\"Enter marks of subject  3 of student {i+1} :\"))\n",
    "    m4=int(input(f\"Enter marks of subject 4 of student {i+1} :\"))\n",
    "    m5=int(input(f\"Enter marks of subject  5 of student {i+1} :\"))\n",
    "    t=(sid,sname,m1,m2,m3,m4,m5)\n",
    "    l.append(t)    "
   ]
  },
  {
   "cell_type": "markdown",
   "id": "dc650a8c",
   "metadata": {},
   "source": [
    "## 3. Dump table into csv file \"result.csv\"."
   ]
  },
  {
   "cell_type": "code",
   "execution_count": 7,
   "id": "33ca686b",
   "metadata": {},
   "outputs": [],
   "source": [
    "import csv"
   ]
  },
  {
   "cell_type": "code",
   "execution_count": 8,
   "id": "e2752ddc",
   "metadata": {},
   "outputs": [],
   "source": [
    "header=['STUDENT_ID','STUDENT_NAME','SUBJECT_1','SUBJECT_2','SUBJECT_3','SUBJECT_4','SUBJECT_5']"
   ]
  },
  {
   "cell_type": "code",
   "execution_count": 10,
   "id": "f2f5aa7b",
   "metadata": {},
   "outputs": [],
   "source": [
    "with open('reslult_tbl.csv','w',newline=\"\") as csvfile:\n",
    "    writer_obj=csv.writer(csvfile)\n",
    "    writer_obj.writerow(header)\n",
    "    writer_obj.writerows(l)"
   ]
  },
  {
   "cell_type": "markdown",
   "id": "9b198a60",
   "metadata": {},
   "source": [
    "## 4. Read result.csv file and Print Total Marks and Grade of each student. Also Append Total Marks and Grade column into result.csv file."
   ]
  },
  {
   "cell_type": "code",
   "execution_count": 15,
   "id": "04576b6e",
   "metadata": {},
   "outputs": [
    {
     "name": "stdout",
     "output_type": "stream",
     "text": [
      "[{'STUDENT_ID': '101', 'STUDENT_NAME': 'Aastha', 'SUBJECT_1': '90', 'SUBJECT_2': '90', 'SUBJECT_3': '90', 'SUBJECT_4': '90', 'SUBJECT_5': '90'}, {'STUDENT_ID': '102', 'STUDENT_NAME': 'Jinal', 'SUBJECT_1': '80', 'SUBJECT_2': '80', 'SUBJECT_3': '80', 'SUBJECT_4': '80', 'SUBJECT_5': '80'}, {'STUDENT_ID': '103', 'STUDENT_NAME': 'Neti', 'SUBJECT_1': '70', 'SUBJECT_2': '70', 'SUBJECT_3': '70', 'SUBJECT_4': '70', 'SUBJECT_5': '70'}, {'STUDENT_ID': '104', 'STUDENT_NAME': 'Prapti', 'SUBJECT_1': '60', 'SUBJECT_2': '60', 'SUBJECT_3': '60', 'SUBJECT_4': '60', 'SUBJECT_5': '60'}, {'STUDENT_ID': '105', 'STUDENT_NAME': 'Diya', 'SUBJECT_1': '50', 'SUBJECT_2': '50', 'SUBJECT_3': '50', 'SUBJECT_4': '50', 'SUBJECT_5': '50'}, {'STUDENT_ID': '106', 'STUDENT_NAME': 'Prathana', 'SUBJECT_1': '40', 'SUBJECT_2': '40', 'SUBJECT_3': '40', 'SUBJECT_4': '40', 'SUBJECT_5': '40'}, {'STUDENT_ID': '107', 'STUDENT_NAME': 'Namarata', 'SUBJECT_1': '95', 'SUBJECT_2': '95', 'SUBJECT_3': '95', 'SUBJECT_4': '95', 'SUBJECT_5': '95'}, {'STUDENT_ID': '108', 'STUDENT_NAME': 'Jully', 'SUBJECT_1': '85', 'SUBJECT_2': '85', 'SUBJECT_3': '85', 'SUBJECT_4': '85', 'SUBJECT_5': '85'}, {'STUDENT_ID': '109', 'STUDENT_NAME': 'Khyati', 'SUBJECT_1': '30', 'SUBJECT_2': '30', 'SUBJECT_3': '30', 'SUBJECT_4': '30', 'SUBJECT_5': '30'}, {'STUDENT_ID': '110', 'STUDENT_NAME': 'Heena', 'SUBJECT_1': '20', 'SUBJECT_2': '30', 'SUBJECT_3': '40', 'SUBJECT_4': '23', 'SUBJECT_5': '23'}]\n",
      "\n",
      "\n"
     ]
    }
   ],
   "source": [
    "COLUMNS=[]\n",
    "with open('reslult_tbl.csv','r',newline=\"\") as read_csv:\n",
    "    read_obj=csv.DictReader(read_csv)\n",
    "    COLUMNS=list(read_obj)\n",
    "    print(COLUMNS)\n",
    "    print('\\n')"
   ]
  },
  {
   "cell_type": "code",
   "execution_count": null,
   "id": "a9be4502",
   "metadata": {},
   "outputs": [],
   "source": [
    "for row in COLUMNS:\n",
    "    total_marks=sum(int(row[f'SUBJECT_{i}'])\n",
    "for j in range(1,6))\n",
    "    percentage=total_marks/5\n",
    "    if percentage>=90:\n",
    "        grade='A'\n",
    "    elif percentage>=80 and percentage<=90:\n",
    "        grade='B'\n",
    "    elif percentage>=70 and percentage<=80:\n",
    "        grade='C'\n",
    "    elif percentage>=60 and percentage<=70:\n",
    "        grade='D'\n",
    "    elif percentage>=50 and percentage<=33:\n",
    "        grade='E'\n",
    "    else:\n",
    "        grade='F'\n",
    "row['total_marks']=total_marks\n",
    "row['grade']=grade"
   ]
  },
  {
   "cell_type": "code",
   "execution_count": null,
   "id": "70b46c9d",
   "metadata": {},
   "outputs": [],
   "source": [
    "with open('reslult_tbl.csv','w',newline=\"\") as csvfile:\n",
    "    header=['STUDENT_ID','STUDENT_NAME','SUBJECT_1','SUBJECT_2','SUBJECT_3','SUBJECT_4',\n",
    "            'SUBJECT_5','total_marks','grade']\n",
    "    write_obj=csv.DictWriter(csvfile,fieldnames=header)\n",
    "    write_obj.writeheader()\n",
    "    write_obj.writerows(COLUMNS)\n",
    "    "
   ]
  },
  {
   "cell_type": "markdown",
   "id": "2e531955",
   "metadata": {},
   "source": [
    "## 5. List out Top 3 Student id and name with its percentage."
   ]
  },
  {
   "cell_type": "code",
   "execution_count": null,
   "id": "d3073f62",
   "metadata": {},
   "outputs": [],
   "source": []
  }
 ],
 "metadata": {
  "kernelspec": {
   "display_name": "Python 3 (ipykernel)",
   "language": "python",
   "name": "python3"
  },
  "language_info": {
   "codemirror_mode": {
    "name": "ipython",
    "version": 3
   },
   "file_extension": ".py",
   "mimetype": "text/x-python",
   "name": "python",
   "nbconvert_exporter": "python",
   "pygments_lexer": "ipython3",
   "version": "3.10.7"
  }
 },
 "nbformat": 4,
 "nbformat_minor": 5
}
