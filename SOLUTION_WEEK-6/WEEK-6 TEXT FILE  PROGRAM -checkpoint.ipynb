{
 "cells": [
  {
   "cell_type": "markdown",
   "id": "1b6263ea",
   "metadata": {},
   "source": [
    "## Program 1: Read Python.txt file and Print it in Reverse."
   ]
  },
  {
   "cell_type": "code",
   "execution_count": 1,
   "id": "977bd948",
   "metadata": {},
   "outputs": [],
   "source": [
    "list=[\"Python is a popular general-purpose programming language.\",\n",
    "\"It was created by Guido van Rossum, and released in 1991.\",\n",
    "\"It is used in machine learning, web development, desktop applications, and many other fields.\", \n",
    "\"Fortunately for beginners, Python has a simple, easy-to-use syntax.\", \n",
    "\"This makes Python a great language to learn for beginners.\",\n",
    "\"Why Learn Python?\",\n",
    "\"Python is easy to learn. Its syntax is easy and code is very readable.\",\n",
    "\"Python has a lot of applications. It's used for developing web applications, data science, rapid application development, and so on.\",\n",
    "\"Python allows you to write programs in fewer lines of code than most of the programming languages.\",\n",
    "\"The popularity of Python is growing rapidly. Now it's one of the most popular programming languages.\"]"
   ]
  },
  {
   "cell_type": "code",
   "execution_count": 2,
   "id": "e67313fa",
   "metadata": {},
   "outputs": [],
   "source": [
    "txtfile=open(\"D:\\\\Aastha\\\\22BCA234\\\\DB&PYTHON\\\\Python.txt\",\"w\")\n",
    "txtfile.writelines(list)"
   ]
  },
  {
   "cell_type": "markdown",
   "id": "bf1f67f1",
   "metadata": {},
   "source": [
    "#### READING TEXT FILE"
   ]
  },
  {
   "cell_type": "code",
   "execution_count": 3,
   "id": "e667ee34",
   "metadata": {
    "scrolled": true
   },
   "outputs": [
    {
     "name": "stdout",
     "output_type": "stream",
     "text": [
      "Python is a popular general-purpose programming language.It was created by Guido van Rossum, and released in 1991.It is used in machine learning, web development, desktop applications, and many other fields.Fortunately for beginners, Python has a simple, easy-to-use syntax.This makes Python a great language to learn for beginners.Why Learn Python?Python is easy to learn. Its syntax is easy and code is very readable.Python has a lot of applications. It's used for developing web applications, data science, rapid application development, and so on.Python allows you to write programs in fewer lines of code than most of the programming languages.The popularity of Python is growing rapidly. Now it's one of the most popular programming languages.\n"
     ]
    }
   ],
   "source": [
    "txtfile=open(\"D:\\\\Aastha\\\\22BCA234\\\\DB&PYTHON\\\\Python.txt\",\"r\")\n",
    "reading_file=txtfile.read()\n",
    "print(reading_file)"
   ]
  },
  {
   "cell_type": "markdown",
   "id": "ff2e6272",
   "metadata": {},
   "source": [
    "#### READING TEXT FILE IN REVERSE"
   ]
  },
  {
   "cell_type": "code",
   "execution_count": 4,
   "id": "f33c804f",
   "metadata": {},
   "outputs": [
    {
     "name": "stdout",
     "output_type": "stream",
     "text": [
      "[\"Python is a popular general-purpose programming language.It was created by Guido van Rossum, and released in 1991.It is used in machine learning, web development, desktop applications, and many other fields.Fortunately for beginners, Python has a simple, easy-to-use syntax.This makes Python a great language to learn for beginners.Why Learn Python?Python is easy to learn. Its syntax is easy and code is very readable.Python has a lot of applications. It's used for developing web applications, data science, rapid application development, and so on.Python allows you to write programs in fewer lines of code than most of the programming languages.The popularity of Python is growing rapidly. Now it's one of the most popular programming languages.\"]\n"
     ]
    }
   ],
   "source": [
    "txtfile=open(\"D:\\\\Aastha\\\\22BCA234\\\\DB&PYTHON\\\\Python.txt\",\"r\")\n",
    "reading_file_inverse=txtfile.readlines()[::-1]\n",
    "print(reading_file_inverse)"
   ]
  },
  {
   "cell_type": "markdown",
   "id": "39ced231",
   "metadata": {},
   "source": [
    "## Program 2: Read Python.txt file and Print total number of lines and words in it."
   ]
  },
  {
   "cell_type": "code",
   "execution_count": 8,
   "id": "4da185e4",
   "metadata": {},
   "outputs": [
    {
     "name": "stdout",
     "output_type": "stream",
     "text": [
      "Total number of lines is:6\n"
     ]
    }
   ],
   "source": [
    "with open(\"D:\\\\Aastha\\\\22BCA234\\\\DB&PYTHON\\\\Python.txt\",\"r\")as txt_file:\n",
    "    lines=len(txt_file.readlines())\n",
    "    print(f\"Total number of lines is:{lines}\")"
   ]
  },
  {
   "cell_type": "code",
   "execution_count": 10,
   "id": "9ffe2e12",
   "metadata": {},
   "outputs": [
    {
     "name": "stdout",
     "output_type": "stream",
     "text": [
      "Total number of words is 114\n"
     ]
    }
   ],
   "source": [
    "with open(\"D:\\\\Aastha\\\\22BCA234\\\\DB&PYTHON\\\\Python.txt\",\"r\")as txt_file:\n",
    "    reading=txt_file.read()\n",
    "    words=reading.split()\n",
    "    no_of_words=len(words)\n",
    "    print(f\"Total number of words is {no_of_words}\")"
   ]
  },
  {
   "cell_type": "markdown",
   "id": "4d65d690",
   "metadata": {},
   "source": [
    "## Program 3: Read Python.txt file and Print unique word with its count."
   ]
  },
  {
   "cell_type": "markdown",
   "id": "cbf94c5c",
   "metadata": {},
   "source": [
    "#### Printing unique words"
   ]
  },
  {
   "cell_type": "code",
   "execution_count": 11,
   "id": "b3b6b15d",
   "metadata": {},
   "outputs": [
    {
     "name": "stdout",
     "output_type": "stream",
     "text": [
      "Unique words are:-\n",
      "\n",
      "{'o', 'e', 'G', 'W', 'd', 'n', 'R', '.', 'r', 'h', 'c', 'f', 'y', 'P', \"'\", 'a', '9', '\\n', 'F', '?', 'u', 't', 'g', '-', 'k', 'T', 'L', 'I', '1', 'w', 'i', 'l', ' ', 'm', 'b', 'v', 'x', 'p', 'N', 's', ','}\n"
     ]
    }
   ],
   "source": [
    "with open(\"D:\\\\Aastha\\\\22BCA234\\\\DB&PYTHON\\\\Python.txt\",\"r\")as txt_file: \n",
    "    reading=txt_file.read()\n",
    "    unique_words=set(reading)\n",
    "    print(\"Unique words are:-\\n\")\n",
    "    print(unique_words)\n",
    "    "
   ]
  },
  {
   "cell_type": "markdown",
   "id": "96256380",
   "metadata": {},
   "source": [
    "#### counting unique words"
   ]
  },
  {
   "cell_type": "code",
   "execution_count": 12,
   "id": "4fb0abde",
   "metadata": {},
   "outputs": [
    {
     "name": "stdout",
     "output_type": "stream",
     "text": [
      "41\n"
     ]
    }
   ],
   "source": [
    "count=0\n",
    "for i in unique_words:\n",
    "    count+=1\n",
    "print(count)"
   ]
  },
  {
   "cell_type": "markdown",
   "id": "0cdb0557",
   "metadata": {},
   "source": [
    "## Program 4: Read Python.txt file and Print largest and smallest word from it."
   ]
  },
  {
   "cell_type": "code",
   "execution_count": null,
   "id": "379e0345",
   "metadata": {},
   "outputs": [],
   "source": []
  },
  {
   "cell_type": "markdown",
   "id": "3284f1e3",
   "metadata": {},
   "source": [
    "## Program 5: Read Python.txt file. Convert it into upper case and write into another file \"Python_Upper.txt\""
   ]
  },
  {
   "cell_type": "markdown",
   "id": "2ae0f626",
   "metadata": {},
   "source": [
    "#### OPENING A FILE IN READIING MODE WHICH I WANT TO CONVERT ITO UPPER CASE"
   ]
  },
  {
   "cell_type": "code",
   "execution_count": 13,
   "id": "46019393",
   "metadata": {},
   "outputs": [],
   "source": [
    "with open(\"D:\\\\Aastha\\\\22BCA234\\\\DB&PYTHON\\\\Python.txt\",\"r\")as txt_file: \n",
    "    reading=txt_file.read().upper()\n",
    "    "
   ]
  },
  {
   "cell_type": "markdown",
   "id": "bdb03b8c",
   "metadata": {},
   "source": [
    "#### OPENING A FILE IN WHICH I WANT TO COPY TEXT FILE IN WRITING MODE"
   ]
  },
  {
   "cell_type": "code",
   "execution_count": 14,
   "id": "97de7746",
   "metadata": {},
   "outputs": [],
   "source": [
    "with open(\"D:\\\\Aastha\\\\22BCA234\\\\DB&PYTHON\\\\Python_upper.txt\",\"w\")as uppper_txt_file: \n",
    "    uppper_txt_file.write(reading)"
   ]
  }
 ],
 "metadata": {
  "kernelspec": {
   "display_name": "Python 3 (ipykernel)",
   "language": "python",
   "name": "python3"
  },
  "language_info": {
   "codemirror_mode": {
    "name": "ipython",
    "version": 3
   },
   "file_extension": ".py",
   "mimetype": "text/x-python",
   "name": "python",
   "nbconvert_exporter": "python",
   "pygments_lexer": "ipython3",
   "version": "3.10.7"
  }
 },
 "nbformat": 4,
 "nbformat_minor": 5
}
