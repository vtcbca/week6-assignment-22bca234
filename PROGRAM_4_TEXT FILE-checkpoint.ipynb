{
 "cells": [
  {
   "cell_type": "code",
   "execution_count": 1,
   "id": "715f0a80",
   "metadata": {},
   "outputs": [],
   "source": [
    "sentlist=[\"Python is a popular general-purpose programming language.\",\n",
    "\"It was created by Guido van Rossum, and released in 1991.\",\n",
    "\"It is used in machine learning, web development, desktop applications, and many other fields.\", \n",
    "\"Fortunately for beginners, Python has a simple, easy-to-use syntax.\", \n",
    "\"This makes Python a great language to learn for beginners.\",\n",
    "\"Why Learn Python?\",\n",
    "\"Python is easy to learn. Its syntax is easy and code is very readable.\",\n",
    "\"Python has a lot of applications. It's used for developing web applications, data science, rapid application development, and so on.\",\n",
    "\"Python allows you to write programs in fewer lines of code than most of the programming languages.\",\n",
    "\"The popularity of Python is growing rapidly. Now it's one of the most popular programming languages.\"]"
   ]
  },
  {
   "cell_type": "code",
   "execution_count": 3,
   "id": "34ba3f60",
   "metadata": {},
   "outputs": [],
   "source": [
    "txtfile=open(\"D:\\\\Aastha\\\\22BCA234\\\\DB&PYTHON\\\\Python.txt\",\"w\")\n",
    "txtfile.writelines(sentlist)"
   ]
  },
  {
   "cell_type": "markdown",
   "id": "b883e628",
   "metadata": {},
   "source": [
    "Program 4: Read Python.txt file and Print largest and smallest word from it."
   ]
  },
  {
   "cell_type": "code",
   "execution_count": 4,
   "id": "cf0eebb0",
   "metadata": {},
   "outputs": [],
   "source": [
    "for i in range(len(sentlist)):\n",
    "    sentlist[i]=sentlist[i].split()"
   ]
  },
  {
   "cell_type": "code",
   "execution_count": 5,
   "id": "c0050f3e",
   "metadata": {},
   "outputs": [],
   "source": [
    "maxlen=0\n",
    "currentlen=0\n",
    "for i in range(len(sentlist)):\n",
    "    for j in range(len(sentlist[i])): \n",
    "        currentlen=len(sentlist[i][j])\n",
    "        if maxlen>currentlen:\n",
    "            maxlen=maxlen\n",
    "        elif maxlen==currentlen:\n",
    "            maxlen=currentlen\n",
    "        else:\n",
    "            maxlen=currentlen"
   ]
  },
  {
   "cell_type": "code",
   "execution_count": 6,
   "id": "fe1eacb9",
   "metadata": {},
   "outputs": [],
   "source": [
    "maxwords=[]\n",
    "for i in range(len(sentlist)):\n",
    "    for j in range(len(sentlist[i])):\n",
    "        if len(sentlist[i][j])==maxlen:\n",
    "            maxword=sentlist[i][j]\n",
    "            maxwords.append(maxword)  "
   ]
  },
  {
   "cell_type": "code",
   "execution_count": 7,
   "id": "6e4de96e",
   "metadata": {},
   "outputs": [
    {
     "name": "stdout",
     "output_type": "stream",
     "text": [
      "['general-purpose']\n"
     ]
    }
   ],
   "source": [
    "print(maxwords)"
   ]
  },
  {
   "cell_type": "code",
   "execution_count": 8,
   "id": "d62dee76",
   "metadata": {},
   "outputs": [],
   "source": [
    "minlen=1\n",
    "currentlen=0\n",
    "for i in range(len(sentlist)):\n",
    "    for j in range(len(sentlist[i])): \n",
    "        currentlen=len(sentlist[i][j])\n",
    "        if minlen<currentlen:\n",
    "            minlen=minlen\n",
    "        elif minlen==currentlen:\n",
    "            minlen=currentlen\n",
    "        else:\n",
    "            minlen=currentlen"
   ]
  },
  {
   "cell_type": "code",
   "execution_count": 9,
   "id": "09dfc5f1",
   "metadata": {},
   "outputs": [
    {
     "data": {
      "text/plain": [
       "1"
      ]
     },
     "execution_count": 9,
     "metadata": {},
     "output_type": "execute_result"
    }
   ],
   "source": [
    "minlen"
   ]
  },
  {
   "cell_type": "code",
   "execution_count": 10,
   "id": "bb72f44e",
   "metadata": {},
   "outputs": [],
   "source": [
    "minwords=[]\n",
    "for i in range(len(sentlist)):\n",
    "    for j in range(len(sentlist[i])):\n",
    "        if len(sentlist[i][j])==minlen:\n",
    "            minword=sentlist[i][j]\n",
    "            minwords.append(minword)  "
   ]
  },
  {
   "cell_type": "code",
   "execution_count": 12,
   "id": "a0b15000",
   "metadata": {},
   "outputs": [
    {
     "name": "stdout",
     "output_type": "stream",
     "text": [
      "Maxwords : ['general-purpose']\n",
      "Minwords: ['a', 'a', 'a', 'a']\n"
     ]
    }
   ],
   "source": [
    "print(f\"Maxwords : {maxwords}\\nMinwords: {minwords}\")"
   ]
  },
  {
   "cell_type": "code",
   "execution_count": null,
   "id": "4ac4bb78",
   "metadata": {},
   "outputs": [],
   "source": []
  }
 ],
 "metadata": {
  "kernelspec": {
   "display_name": "Python 3 (ipykernel)",
   "language": "python",
   "name": "python3"
  },
  "language_info": {
   "codemirror_mode": {
    "name": "ipython",
    "version": 3
   },
   "file_extension": ".py",
   "mimetype": "text/x-python",
   "name": "python",
   "nbconvert_exporter": "python",
   "pygments_lexer": "ipython3",
   "version": "3.10.7"
  }
 },
 "nbformat": 4,
 "nbformat_minor": 5
}
